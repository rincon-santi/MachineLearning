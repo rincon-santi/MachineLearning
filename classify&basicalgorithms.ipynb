{
 "metadata": {
  "kernelspec": {
   "display_name": "Python 2",
   "language": "python",
   "name": "python2"
  },
  "language_info": {
   "codemirror_mode": {
    "name": "ipython",
    "version": 2
   },
   "file_extension": ".py",
   "mimetype": "text/x-python",
   "name": "python",
   "nbconvert_exporter": "python",
   "pygments_lexer": "ipython2",
   "version": "2.7.14"
  },
  "name": "",
  "signature": "sha256:7c24cf240ae15cf6578cade1559f739e61505c47913b89b929710cc090ef444a"
 },
 "nbformat": 3,
 "nbformat_minor": 0,
 "worksheets": [
  {
   "cells": [
    {
     "cell_type": "code",
     "collapsed": false,
     "input": [
      "import numpy as np\n",
      "import matplotlib.pyplot as pl\n",
      "import math as math"
     ],
     "language": "python",
     "metadata": {},
     "outputs": [],
     "prompt_number": 1
    },
    {
     "cell_type": "code",
     "collapsed": false,
     "input": [
      "# Calculates the linear form to classify data using least squares method\n",
      "def least_squares(X,t):\n",
      "    xtilde = np.concatenate(([[1]*X.shape[1]],X),axis=0)\n",
      "    Wtilde = np.dot(np.linalg.inv(np.dot(xtilde,xtilde.T)),np.dot(xtilde,t.T))\n",
      "    return Wtilde"
     ],
     "language": "python",
     "metadata": {},
     "outputs": [],
     "prompt_number": 2
    },
    {
     "cell_type": "code",
     "collapsed": false,
     "input": [
      "# Calculates the linear form to classify data using Fisher method (linear discriminant)\n",
      "def lda(X,t):\n",
      "    mean_vectors = []\n",
      "    for cl in [-1,1]:\n",
      "        aux=X[:, np.where(t==cl)]\n",
      "        aux.shape=(aux.shape[0],aux.shape[2])\n",
      "        mean_vectors.append(np.mean(aux, axis=1))\n",
      "    S_W = np.zeros((X.shape[0],X.shape[0]))\n",
      "    clase=0\n",
      "    var_class_mat=[]\n",
      "    p=[]\n",
      "    for cl,mv in zip([-1,1], mean_vectors):\n",
      "        var_class_mat.append(np.zeros((X.shape[0],X.shape[0])))   \n",
      "        aux=X[:, np.where(t==cl)]\n",
      "        aux.shape=(aux.shape[0],aux.shape[2])\n",
      "        p.append(float(aux.shape[1])/float(X.shape[1]))\n",
      "        for i in (0, aux.shape[1]-1):\n",
      "            col=aux[:,i]\n",
      "            col.shape=(col.shape[0],1)\n",
      "            mv.shape=(mv.shape[0],1)\n",
      "            var_class_mat[clase] += np.dot((col-mv),(col-mv).T)\n",
      "        S_W += var_class_mat[clase]\n",
      "        clase+=1\n",
      "    W=np.dot(np.linalg.inv(S_W),mean_vectors[1]-mean_vectors[0])\n",
      "    W.shape=W.shape[0]\n",
      "    s=[]\n",
      "    m=[]\n",
      "    for i in (0, 1):\n",
      "        s.append(np.dot(np.dot(W.T,var_class_mat[i]),W))\n",
      "        m.append(np.dot(W.T,mean_vectors[i]))\n",
      "    F=[(s[0]-s[1]),(2*(s[1]*m[0])),(-s[1]*pow(m[0],2)+s[0]*pow(m[1],2)-2*s[0]*s[1]*math.log(p[1]/math.sqrt(s[1]))+2*s[0]*s[1]*math.log(p[0]/math.sqrt(s[0])))]\n",
      "    c=np.roots([F[0],F[1],F[2]])\n",
      "    F_prima=[2*F[0], F[1]]\n",
      "    if (math.copysign(c[0]*F_prima[0]-F_prima[1],1))<=(math.copysign(c[1]*F_prima[0]-F_prima[1],1)):\n",
      "        wtilde=np.concatenate(([-(c[0]*pow(W[0],2)+c[0]*pow(W[1],2))], W.T)).T\n",
      "    else:\n",
      "        wtilde=np.concatenate(([-(c[1]*pow(W[0],2)+c[1]*pow(W[1],2))], W.T)).T\n",
      "    return wtilde"
     ],
     "language": "python",
     "metadata": {},
     "outputs": [],
     "prompt_number": 3
    },
    {
     "cell_type": "code",
     "collapsed": false,
     "input": [
      "# function to clasify a matrix X of data using a linear form W\n",
      "def classify(x,w):\n",
      "    xtilde = np.concatenate(([1],x),axis=0)\n",
      "    wtilde = w\n",
      "    if (np.dot(xtilde,wtilde) >= 0):\n",
      "        return 1\n",
      "    else:\n",
      "        return -1"
     ],
     "language": "python",
     "metadata": {},
     "outputs": [],
     "prompt_number": 4
    },
    {
     "cell_type": "code",
     "collapsed": false,
     "input": [
      "# --------------------------------------------\n",
      "# From there on there are some examples of use\n",
      "# --------------------------------------------"
     ],
     "language": "python",
     "metadata": {},
     "outputs": [],
     "prompt_number": 5
    },
    {
     "cell_type": "code",
     "collapsed": false,
     "input": [
      "v = [(-10.389610389610397, 13.896103896103902), (8.116883116883116, 11.298701298701303), (4.761904761904759, 1.9913419913419936), (1.298701298701296, 12.056277056277061), (16.233766233766232, 0.3679653679653718), (15.367965367965368, 16.601731601731608), (4.112554112554108, 6.212121212121215), (-5.303030303030308, 7.727272727272734), (-8.116883116883123, -14.567099567099566)]\n",
      "\n",
      "u = [(-14.069264069264076, 10.43290043290044), (-15.367965367965375, -10.887445887445887), (5.627705627705623, -15.108225108225108), (-8.658008658008665, -0.9307359307359278), (-4.4372294372294405, -12.186147186147185), (-11.796536796536802, -14.025974025974026), (-7.467532467532472, -10.995670995670995), (-15.367965367965375, -1.2554112554112535), (-2.056277056277061, -7.748917748917748), (-10.06493506493507, -6.1255411255411225), (-0.4329004329004391, -16.73160173160173), (11.904761904761905, 6.969696969696976)]\n"
     ],
     "language": "python",
     "metadata": {},
     "outputs": [],
     "prompt_number": 6
    },
    {
     "cell_type": "code",
     "collapsed": false,
     "input": [
      "Xtilde = np.array([[  1.        ,   1.        ,   1.        ,   1.        ,\n",
      "          1.        ,   1.        ,   1.        ,   1.        ,\n",
      "          1.        ,   1.        ,   1.        ,   1.        ,\n",
      "          1.        ,   1.        ,   1.        ,   1.        ,\n",
      "          1.        ,   1.        ,   1.        ,   1.        ,\n",
      "          1.        ],\n",
      "       [-10.38961039,   8.11688312,   4.76190476,   1.2987013 ,\n",
      "         16.23376623,  15.36796537,   4.11255411,  -5.3030303 ,\n",
      "         -8.11688312, -14.06926407, -15.36796537,   5.62770563,\n",
      "         -8.65800866,  -4.43722944, -11.7965368 ,  -7.46753247,\n",
      "        -15.36796537,  -2.05627706, -10.06493506,  -0.43290043,\n",
      "         11.9047619 ],\n",
      "       [ 13.8961039 ,  11.2987013 ,   1.99134199,  12.05627706,\n",
      "          0.36796537,  16.6017316 ,   6.21212121,   7.72727273,\n",
      "        -14.56709957,  10.43290043, -10.88744589, -15.10822511,\n",
      "         -0.93073593, -12.18614719, -14.02597403, -10.995671  ,\n",
      "         -1.25541126,  -7.74891775,  -6.12554113, -16.73160173,\n",
      "          6.96969697]]);\n",
      "X = np.array([[-10.38961039,   8.11688312,   4.76190476,   1.2987013 ,\n",
      "         16.23376623,  15.36796537,   4.11255411,  -5.3030303 ,\n",
      "         -8.11688312, -14.06926407, -15.36796537,   5.62770563,\n",
      "         -8.65800866,  -4.43722944, -11.7965368 ,  -7.46753247,\n",
      "        -15.36796537,  -2.05627706, -10.06493506,  -0.43290043,\n",
      "         11.9047619 ],\n",
      "       [ 13.8961039 ,  11.2987013 ,   1.99134199,  12.05627706,\n",
      "          0.36796537,  16.6017316 ,   6.21212121,   7.72727273,\n",
      "        -14.56709957,  10.43290043, -10.88744589, -15.10822511,\n",
      "         -0.93073593, -12.18614719, -14.02597403, -10.995671  ,\n",
      "         -1.25541126,  -7.74891775,  -6.12554113, -16.73160173,\n",
      "          6.96969697]]);\n",
      "T = np.array([1.0, 1.0, 1.0, 1.0, 1.0, 1.0, 1.0, 1.0, 1.0, -1.0, -1.0, -1.0, -1.0, -1.0, -1.0, -1.0, -1.0, -1.0, -1.0, -1.0, -1.0]);\n"
     ],
     "language": "python",
     "metadata": {},
     "outputs": [],
     "prompt_number": 7
    },
    {
     "cell_type": "code",
     "collapsed": false,
     "input": [
      "W=least_squares(X,T)"
     ],
     "language": "python",
     "metadata": {},
     "outputs": [],
     "prompt_number": 8
    },
    {
     "cell_type": "code",
     "collapsed": false,
     "input": [
      "dom = np.linspace(-20,20,100)\n",
      "ran = (-W[0] -W[1]*dom )/W[2]\n",
      "pl.plot([a for (a,b) in u],[b for (a,b) in u],'og')\n",
      "pl.plot([a for (a,b) in v],[b for (a,b) in v],'or')\n",
      "pl.plot(dom,ran)\n",
      "pl.show()"
     ],
     "language": "python",
     "metadata": {},
     "outputs": []
    },
    {
     "cell_type": "code",
     "collapsed": false,
     "input": [
      "W=lda(X, T)"
     ],
     "language": "python",
     "metadata": {},
     "outputs": [],
     "prompt_number": 9
    },
    {
     "cell_type": "code",
     "collapsed": false,
     "input": [
      "dom = np.linspace(-20,20,100)\n",
      "ran = (-W[0] -W[1]*dom )/W[2]\n",
      "pl.plot([a for (a,b) in u],[b for (a,b) in u],'og')\n",
      "pl.plot([a for (a,b) in v],[b for (a,b) in v],'or')\n",
      "pl.plot(dom,ran)\n",
      "pl.show()"
     ],
     "language": "python",
     "metadata": {},
     "outputs": []
    }
   ],
   "metadata": {}
  }
 ]
}